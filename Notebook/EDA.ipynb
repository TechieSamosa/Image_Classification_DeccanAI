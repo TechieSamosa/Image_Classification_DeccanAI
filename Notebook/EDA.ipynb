{
 "cells": [
  {
   "cell_type": "markdown",
   "metadata": {},
   "source": [
    "# Exploratory Data Analysis (EDA) for Image Classification\n",
    "\n",
    "In this notebook, we will perform exploratory data analysis on the CIFAR-10 dataset. Our goals include:\n",
    "- Understanding the dataset structure and class distribution.\n",
    "- Visualizing sample images from each class.\n",
    "- Analyzing image dimensions, pixel values, and basic statistics.\n",
    "\n",
    "Let's get started!\n"
   ]
  },
  {
   "cell_type": "markdown",
   "metadata": {},
   "source": [
    "## Dataset Overview\n",
    "\n",
    "The CIFAR-10 dataset consists of 60,000 32x32 color images in 10 classes, with 6,000 images per class. The dataset is split into 50,000 training images and 10,000 test images.\n"
   ]
  },
  {
   "cell_type": "code",
   "execution_count": null,
   "metadata": {},
   "outputs": [],
   "source": [
    "# Importing necessary libraries\n",
    "import numpy as np\n",
    "import matplotlib.pyplot as plt\n",
    "import seaborn as sns\n",
    "\n",
    "# For loading the CIFAR-10 dataset\n",
    "from tensorflow.keras.datasets import cifar10\n",
    "\n",
    "# For displaying images inline\n",
    "%matplotlib inline\n",
    "\n",
    "# Set plot style for better aesthetics\n",
    "sns.set(style=\"whitegrid\")\n"
   ]
  },
  {
   "cell_type": "code",
   "execution_count": null,
   "metadata": {},
   "outputs": [],
   "source": [
    "# Load the CIFAR-10 dataset\n",
    "(x_train, y_train), (x_test, y_test) = cifar10.load_data()\n",
    "\n",
    "# Check the shapes of the training and test sets\n",
    "print(\"Training data shape:\", x_train.shape)\n",
    "print(\"Training labels shape:\", y_train.shape)\n",
    "print(\"Test data shape:\", x_test.shape)\n",
    "print(\"Test labels shape:\", y_test.shape)\n"
   ]
  },
  {
   "cell_type": "code",
   "execution_count": null,
   "metadata": {},
   "outputs": [],
   "source": [
    "# Define class names for CIFAR-10\n",
    "class_names = ['Airplane', 'Automobile', 'Bird', 'Cat', 'Deer', \n",
    "               'Dog', 'Frog', 'Horse', 'Ship', 'Truck']\n",
    "\n",
    "# Display a few sample images from the training set with their labels\n",
    "fig, axes = plt.subplots(2, 5, figsize=(15,6))\n",
    "axes = axes.flatten()\n",
    "\n",
    "for i, ax in enumerate(axes):\n",
    "    ax.imshow(x_train[i])\n",
    "    ax.set_title(class_names[int(y_train[i])])\n",
    "    ax.axis('off')\n",
    "\n",
    "plt.tight_layout()\n",
    "plt.show()\n"
   ]
  },
  {
   "cell_type": "code",
   "execution_count": null,
   "metadata": {},
   "outputs": [],
   "source": [
    "# Plotting the class distribution in the training set\n",
    "import pandas as pd\n",
    "\n",
    "# Flatten y_train array for easier handling\n",
    "y_train_flat = y_train.flatten()\n",
    "train_df = pd.DataFrame({'label': y_train_flat})\n",
    "train_df['class'] = train_df['label'].apply(lambda x: class_names[x])\n",
    "\n",
    "plt.figure(figsize=(10, 6))\n",
    "sns.countplot(x='class', data=train_df, order=class_names)\n",
    "plt.xticks(rotation=45)\n",
    "plt.title('Class Distribution in CIFAR-10 Training Set')\n",
    "plt.xlabel('Class')\n",
    "plt.ylabel('Count')\n",
    "plt.show()\n"
   ]
  },
  {
   "cell_type": "code",
   "execution_count": null,
   "metadata": {},
   "outputs": [],
   "source": [
    "# Analyze image pixel statistics: Check pixel value distribution for a sample image\n",
    "sample_img = x_train[0]\n",
    "print(\"Image shape:\", sample_img.shape)\n",
    "print(\"Pixel value range: min =\", sample_img.min(), \", max =\", sample_img.max())\n",
    "\n",
    "# Plot histogram of pixel values for each channel\n",
    "channels = ['Red', 'Green', 'Blue']\n",
    "plt.figure(figsize=(15, 4))\n",
    "for i in range(3):\n",
    "    plt.subplot(1, 3, i+1)\n",
    "    plt.hist(sample_img[:,:,i].ravel(), bins=50, color=channels[i].lower())\n",
    "    plt.title(f'{channels[i]} channel distribution')\n",
    "    plt.xlabel('Pixel Intensity')\n",
    "    plt.ylabel('Frequency')\n",
    "plt.tight_layout()\n",
    "plt.show()\n"
   ]
  },
  {
   "cell_type": "code",
   "execution_count": null,
   "metadata": {},
   "outputs": [],
   "source": [
    "# Check mean and standard deviation of pixel values for normalization reference\n",
    "mean = np.mean(x_train, axis=(0,1,2)) / 255.0  # dividing by 255 for scale normalization\n",
    "std = np.std(x_train, axis=(0,1,2)) / 255.0\n",
    "\n",
    "print(\"Mean of pixel values (per channel):\", mean)\n",
    "print(\"Standard deviation of pixel values (per channel):\", std)\n"
   ]
  },
  {
   "cell_type": "markdown",
   "metadata": {},
   "source": [
    "## Summary & Next Steps\n",
    "\n",
    "- **Dataset Overview:** CIFAR-10 contains 10 classes with balanced distribution.\n",
    "- **Visualizations:** Sample images and class distribution plots help in understanding the data.\n",
    "- **Image Statistics:** Basic pixel statistics are computed, which will be useful for image normalization during preprocessing.\n",
    "\n",
    "In the next steps, we will use this analysis to preprocess the data (resize, normalize, augment) before training our image classification model.\n"
   ]
  }
 ],
 "metadata": {
  "language_info": {
   "name": "python"
  }
 },
 "nbformat": 4,
 "nbformat_minor": 2
}
